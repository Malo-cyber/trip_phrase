{
 "cells": [
  {
   "cell_type": "code",
   "execution_count": 22,
   "id": "69bc9ce6-e986-45dd-84e9-443fdb8e1b7d",
   "metadata": {},
   "outputs": [
    {
     "name": "stdout",
     "output_type": "stream",
     "text": [
      "\u001b[34mSlovene_french\u001b[m\u001b[m/\n"
     ]
    }
   ],
   "source": [
    "ls"
   ]
  },
  {
   "cell_type": "code",
   "execution_count": 1,
   "id": "33dd4589-4b72-4235-a4b5-b457c6db5828",
   "metadata": {},
   "outputs": [],
   "source": [
    "import os"
   ]
  },
  {
   "cell_type": "code",
   "execution_count": 23,
   "id": "cfd49606-4497-4c4b-aedd-2323d64c467a",
   "metadata": {},
   "outputs": [],
   "source": [
    "FILE_PATH = '/Users/malorycouvet/programmation/Projects/trip_phrase/trip_phrase/data/Slovene_french'"
   ]
  },
  {
   "cell_type": "code",
   "execution_count": 27,
   "id": "cb42c946-6b63-489b-bd32-dd5c615af989",
   "metadata": {},
   "outputs": [
    {
     "name": "stdout",
     "output_type": "stream",
     "text": [
      "['Lahko še eno : Encore une autre\\n', 'Isto : la même chose\\n', 'Lahko kruh : Est-ce qu’on pourrait avoir du pain ?\\n', 'Lahko račun : Est-ce que je peux avoir l’addition ?\\n', 'Lahko plačamo : Est-ce que nous pouvons payer ?\\n', 'En kozarec vode, prosim : Un verre d’eau s’il vous plait\\n', 'En vrč vode, prosim : Un pichet d’eau s’il vous plait\\n', 'Radenska : de l’eau pétillante\\n', 'Navadna voda : eau (naturelle)\\n', 'Voda iz pipe : eau du robinet\\n', 'az bi limonado : Je vais prendre une limonada (eau citronnée)\\n', 'Jaz bi kavo : Je vais prendre un café\\n', 'Jaz bi sok : Je vais prendre un jus\\n', 'Lahko račun prosim : Est-ce que je peux avoir l’addition\\n', 'Kava : café\\n', 'Kava z mlekom : café au lait\\n', 'Kava s smetano : café crème\\n', 'Capučino : Cappuccino\\n', 'Bela kava : grand café au lait\\n', 'Machiatto : Machiatto\\n', 'Expresso : Expresso\\n', 'Turška kava : Café turc\\n', 'Pivo : bière\\n', 'Svetlo pivo : bière blonde\\n', 'Temno pivo : bière brune\\n', 'Veliko pivo : grande bière (0.5L)\\n', 'Majhno pivo : petite bière (0,3L)\\n', 'Union pivo : Bière Union\\n', 'Laško pivo : Bière Laško\\n', 'Kakao : chocolat chaud\\n', 'Vroča čokolda : « danette » chaude\\n', 'Čaj : thé\\n', 'Kuhano vino : vin chaud\\n', 'Radenska : eau pétillante\\n', 'Voda : eau\\n', 'Sok : jus\\n', 'Jabolčni sok : jus de pomme\\n', 'Pomarančni sok : jus d’orange\\n', 'Cokta : « Coca-Cola  yougoslave »\\n', 'Limonada : eau avec du citron\\n', 'Vino : vin\\n', 'Belo vino :  vin blanc\\n', 'Rdeče vino : vin rouge\\n', '1 dc : 1 dcl\\n', 'En kozarec : un verre\\n', 'Borovničke : alcool à base de myrtilles\\n', 'Slivovka : alcool fort à base de prunes\\n', 'Viljamovka : alcool fort à base de poires\\n', 'Zajtrk : petit-déjeuner\\n', 'Kosilo : menu du midi\\n', 'Malica : menu midi composé d’un plat\\n', 'Večerja : dîner\\n', 'Predjed : entrée\\n', 'Juha : soupe\\n', 'Glavna jed : plat principal\\n', 'Solata : salade\\n', 'Sladica : dessert']\n"
     ]
    }
   ],
   "source": [
    "file_list = os.listdir(FILE_PATH)\n",
    "with open(f'{FILE_PATH}/{file_list[0]}') as f:\n",
    "    print(f.readlines())"
   ]
  },
  {
   "cell_type": "code",
   "execution_count": null,
   "id": "2e5a0fdc-5570-443a-976a-ad328f621922",
   "metadata": {},
   "outputs": [],
   "source": [
    "import os\n",
    "from os import listdir\n",
    "from os.path import isfile, join\n",
    "\n",
    "path = r'/Users/malorycouvet/Desktop/Python/Dicionnaire de langue/slovene/'\n",
    "\n",
    "os.chdir(path)\n",
    "\n",
    "def read_files(file_path):\n",
    "   with open(file_path, 'r') as file:\n",
    "      print(file.read())\n",
    "\n",
    "for file in os.listdir():\n",
    "    if file.endswith('.txt'):\n",
    "        file_path = f\"{path}/{file}\"\n",
    "        print(file)\n",
    "        read_files(file_path)"
   ]
  },
  {
   "cell_type": "code",
   "execution_count": 92,
   "id": "ec1fa4ee-7e44-4a4d-a606-4c58efe38cfe",
   "metadata": {},
   "outputs": [
    {
     "name": "stdout",
     "output_type": "stream",
     "text": [
      "/Users/malorycouvet/programmation/Projects/trip_phrase/trip_phrase\n"
     ]
    }
   ],
   "source": [
    "cd /Users/malorycouvet/programmation/Projects/trip_phrase/trip_phrase/"
   ]
  },
  {
   "cell_type": "code",
   "execution_count": 97,
   "id": "66889f20-48a3-4771-8b33-0c9bf887be81",
   "metadata": {},
   "outputs": [
    {
     "ename": "SyntaxError",
     "evalue": "invalid syntax (1184675450.py, line 1)",
     "output_type": "error",
     "traceback": [
      "\u001b[0;36m  Input \u001b[0;32mIn [97]\u001b[0;36m\u001b[0m\n\u001b[0;31m    manage.py shell\u001b[0m\n\u001b[0m              ^\u001b[0m\n\u001b[0;31mSyntaxError\u001b[0m\u001b[0;31m:\u001b[0m invalid syntax\n"
     ]
    }
   ],
   "source": [
    "manage.py shell"
   ]
  },
  {
   "cell_type": "code",
   "execution_count": 80,
   "id": "df7a8dc3-c6c0-4870-a121-798e4ae0b108",
   "metadata": {},
   "outputs": [],
   "source": [
    "def read_dicty_directory(path):\n",
    "    \n",
    "    import os\n",
    "    FILE_PATH = path\n",
    "    context = ''\n",
    "    source_phrase = ''\n",
    "    target_phrase = ''\n",
    "    \n",
    "    result = dict()\n",
    "    phraseList = list()\n",
    "    \n",
    "    for file in os.listdir(FILE_PATH):\n",
    "        if file.endswith('.txt'):\n",
    "            context = file.replace('.txt','')\n",
    "            with open(f'{FILE_PATH}/{file}') as f:\n",
    "                for line in f.readlines():\n",
    "                    sub = line.split(':')\n",
    "                    if len(sub)>1:\n",
    "                        source_phrase = sub[0].lower().replace('\\n','').strip()\n",
    "                        target_phrase = sub[1].lower().replace('\\n','').strip()\n",
    "                        result = {'src_phrase' : source_phrase, 'trg_phrase' : target_phrase, 'context' : context}\n",
    "                        phraseList.append(result)\n",
    "    \n",
    "    return phraseList\n",
    "        \n",
    "        \n",
    "        "
   ]
  },
  {
   "cell_type": "code",
   "execution_count": 102,
   "id": "8973adbf-52f2-4a65-832c-e0720b995fe8",
   "metadata": {},
   "outputs": [
    {
     "name": "stdout",
     "output_type": "stream",
     "text": [
      "encore une autre\n",
      "la même chose\n",
      "est-ce qu’on pourrait avoir du pain ?\n",
      "est-ce que je peux avoir l’addition ?\n",
      "est-ce que nous pouvons payer ?\n",
      "un verre d’eau s’il vous plait\n",
      "un pichet d’eau s’il vous plait\n",
      "de l’eau pétillante\n",
      "eau (naturelle)\n",
      "eau du robinet\n",
      "je vais prendre une limonada (eau citronnée)\n",
      "je vais prendre un café\n",
      "je vais prendre un jus\n",
      "est-ce que je peux avoir l’addition\n",
      "café\n",
      "café au lait\n",
      "café crème\n",
      "cappuccino\n",
      "grand café au lait\n",
      "machiatto\n",
      "expresso\n",
      "café turc\n",
      "bière\n",
      "bière blonde\n",
      "bière brune\n",
      "grande bière (0.5l)\n",
      "petite bière (0,3l)\n",
      "bière union\n",
      "bière laško\n",
      "chocolat chaud\n",
      "« danette » chaude\n",
      "thé\n",
      "vin chaud\n",
      "eau pétillante\n",
      "eau\n",
      "jus\n",
      "jus de pomme\n",
      "jus d’orange\n",
      "« coca-cola  yougoslave »\n",
      "eau avec du citron\n",
      "vin\n",
      "vin blanc\n",
      "vin rouge\n",
      "1 dcl\n",
      "un verre\n",
      "alcool à base de myrtilles\n",
      "alcool fort à base de prunes\n",
      "alcool fort à base de poires\n",
      "petit-déjeuner\n",
      "menu du midi\n",
      "menu midi composé d’un plat\n",
      "dîner\n",
      "entrée\n",
      "soupe\n",
      "plat principal\n",
      "salade\n",
      "dessert\n",
      "qu’est-ce que tu fais dans la vie ?\n",
      "comment t’appelles-tu ?\n",
      "d’où viens-tu ?\n",
      "je t’aime (si vous êtes un homme)\n",
      "je t’aime (si vous êtes une femme)\n",
      "tu me plais\n",
      "tu es très belle\n",
      "tu es très beau\n",
      "tu me donnes ton numéro ?\n",
      "on va prendre un café ?\n",
      "on va se promener ?\n",
      "bonjour, je suis oscar.\n",
      "je suis français.\n",
      "enchanté\n",
      "quelle est votre profession ?\n",
      "je viens de france.\n",
      "je suis pour la première fois ici.\n",
      "es-tu igor?\n",
      "es-tu petra?\n",
      "je parle anglais\n",
      "je parle slovène\n",
      "je parle un peu slovène.\n",
      "est-ce que vous parlez anglais?\n",
      "est-ce que vous parlez allemand?\n",
      "est-ce que vous parlez français?\n",
      "je ne comprends pas\n",
      "tu me comprends ?\n",
      "vous me comprenez ?\n",
      "bonjour\n",
      "bonne matinée\n",
      "bonsoir\n",
      "salut\n",
      "salut\n",
      "au revoir\n",
      "au revoir\n",
      "bonne nuit\n",
      "pardon (interpeler dans la rue)\n",
      "salut, comment ça va ?\n",
      "bien, merci. et toi ?\n",
      "bien, et toi ?\n",
      "(moi) aussi bien.\n",
      "est-ce que vous pouvez m’aider\n",
      "(quelle direction)\n",
      "où dois-je aller ?\n",
      "où allons-nous ?\n",
      "où ?\n",
      "où c’est ?\n",
      "où est le chemin?\n",
      "où est la gare routière ?\n",
      "où est la gare ferroviaire?\n",
      "un ticket jusqu’à bled\n",
      "un ticket jusqu’à bohinj\n",
      "est-ce que la place est libre?\n",
      "c’est encore loin bled ?\n",
      "ce n’est pas loin.\n",
      "c’est loin.\n",
      "c’est proche.\n",
      "a gauche\n",
      "a droite .\n",
      "tout droit.\n",
      "oui\n",
      "non\n",
      "s’il vous plait\n",
      "merci\n",
      "merci beaucoup\n",
      "de rien\n",
      "pardon\n",
      "hier\n",
      "aujourd’hui\n",
      "demain\n",
      "quelle heure est-il ?\n",
      "janvier – en janvier\n",
      "février – en février\n",
      "mars – en mars\n",
      "avril – en avril\n",
      "mai – en mai\n",
      "juin – en juin\n",
      "juillet – en juillet\n",
      "août – en août\n",
      "septembre – en septembre\n",
      "octore – en octobre\n",
      "novembre – en novembre\n",
      "décembre – en décembre\n",
      "l’année dernière\n",
      "le mois dernier\n",
      "cette année\n",
      "ce mois-ci\n",
      "l’année prochaine\n",
      "le mois prochain\n",
      "printemps\n",
      "au printemps\n",
      "été\n",
      "en été\n",
      "automne\n",
      "en automne\n",
      "hiver\n",
      "en hiver\n",
      "lundi\n",
      "mardi\n",
      "mercredi\n",
      "jeudi\n",
      "vendredi\n",
      "samedi\n",
      "dimanche\n"
     ]
    }
   ],
   "source": [
    "dicty = read_dicty_directory(FILE_PATH)\n",
    "for el in dicty:\n",
    "    print(el['trg_phrase'])"
   ]
  },
  {
   "cell_type": "code",
   "execution_count": null,
   "id": "84bfc4f3-38b1-4613-88d1-493cf9f59a92",
   "metadata": {},
   "outputs": [],
   "source": []
  }
 ],
 "metadata": {
  "kernelspec": {
   "display_name": "Python 3 (ipykernel)",
   "language": "python",
   "name": "python3"
  },
  "language_info": {
   "codemirror_mode": {
    "name": "ipython",
    "version": 3
   },
   "file_extension": ".py",
   "mimetype": "text/x-python",
   "name": "python",
   "nbconvert_exporter": "python",
   "pygments_lexer": "ipython3",
   "version": "3.9.12"
  }
 },
 "nbformat": 4,
 "nbformat_minor": 5
}
